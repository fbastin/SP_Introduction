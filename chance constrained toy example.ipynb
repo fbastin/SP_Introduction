{
 "cells": [
  {
   "cell_type": "code",
   "execution_count": null,
   "id": "9938f03b-240b-49c0-aa50-d95de17e51d5",
   "metadata": {},
   "outputs": [],
   "source": [
    "using Plots\n",
    "\n",
    "# -------------------------------\n",
    "# Scenario data\n",
    "# -------------------------------\n",
    "ξ = [(1.0, 1.0), (2.0, 5//9), (3.0, 7//9), (4.0, 1//3)]\n",
    "p = [0.1, 0.4, 0.4, 0.1]\n",
    "# Take α in (0.8,9.0]\n",
    "\n",
    "α = 0.85  # probability α\n",
    "\n",
    "# -------------------------------\n",
    "# Grid setup\n",
    "# -------------------------------\n",
    "x1 = range(0, 10, length=400)\n",
    "x2 = range(0, 8, length=400)\n",
    "X, Y = [x for x in x1, y in x2], [y for x in x1, y in x2]\n",
    "\n",
    "# -------------------------------\n",
    "# Evaluate probability of satisfying the chance constraint\n",
    "# -------------------------------\n",
    "prob_satisfied = zeros(size(X))\n",
    "\n",
    "for s in 1:length(ξ)\n",
    "    ξ1, ξ2 = ξ[s]\n",
    "    satisfied = (ξ1 .* X .+ Y .>= 7) .& (ξ2 .* X .+ Y .>= 4)\n",
    "    prob_satisfied .+= p[s] .* satisfied\n",
    "end\n",
    "\n",
    "# Feasible region: probability ≥ α\n",
    "feasible = prob_satisfied .>= α\n",
    "\n",
    "# -------------------------------\n",
    "# Plot feasible region\n",
    "# -------------------------------\n",
    "# We need to transpose the feasible matrix to use it with the function contour.\n",
    "p_plot = contour(x1, x2, feasible';   \n",
    "                  fill=true, fillalpha=0.3, c=:lightblue, \n",
    "                  levels=[0.5, 1], colorbar=false, legend=:topright)\n",
    "xlabel!(\"x₁\")\n",
    "ylabel!(\"x₂\")\n",
    "# title!(\"Feasible region for chance constraint\")\n",
    "\n",
    "# Add scenario boundaries with labels\n",
    "for (s, (ξ1, ξ2)) in enumerate(ξ)\n",
    "    # ξ1 constraint line: ξ1*x1 + x2 = 7\n",
    "    plot!(p_plot, x1, 7 .- ξ1 .* x1, lw=2, ls=:dash, \n",
    "          label=\"ξ₁=$(ξ1): $(ξ1)x₁ + x₂ = 7\", alpha=0.7)\n",
    "end\n",
    "\n",
    "for (s, (ξ1, ξ2)) in enumerate(ξ)\n",
    "    # ξ2 constraint line: ξ2*x1 + x2 = 4\n",
    "    plot!(p_plot, x1, 4 .- ξ2 .* x1, lw=2, ls=:dot, \n",
    "          label=\"ξ₂=$(ξ2): $(ξ2)x₁ + x₂ = 4\", alpha=0.7)\n",
    "end\n",
    "\n",
    "# Limit axes\n",
    "xlims!(0, 10)\n",
    "ylims!(0, 8)\n",
    "\n",
    "# Save as PDF\n",
    "savefig(p_plot, \"chance_constraint_feasible_region.pdf\")\n",
    "\n",
    "display(p_plot)"
   ]
  },
  {
   "cell_type": "code",
   "execution_count": null,
   "id": "78e8d6d3-7eb1-42c2-8721-bc72d2eb9df9",
   "metadata": {},
   "outputs": [],
   "source": []
  },
  {
   "cell_type": "code",
   "execution_count": null,
   "id": "831d848d-c193-4517-b03d-7eae68596103",
   "metadata": {},
   "outputs": [],
   "source": [
    "# -------------------------------\n",
    "# Function to query feasibility from grid\n",
    "# -------------------------------\n",
    "function is_feasible_grid(x1_val, x2_val, x1, x2, feasible)\n",
    "    # find nearest indices\n",
    "    i = findall(abs.(x1 .- x1_val) .== minimum(abs.(x1 .- x1_val)))[1]\n",
    "    j = findall(abs.(x2 .- x2_val) .== minimum(abs.(x2 .- x2_val)))[1]\n",
    "    return feasible[i, j]\n",
    "end"
   ]
  },
  {
   "cell_type": "code",
   "execution_count": null,
   "id": "3510767f-db9a-46fe-8c28-8b60cf1f4f2f",
   "metadata": {},
   "outputs": [],
   "source": [
    "println(is_feasible_grid(0,6, x1, x2, feasible))\n",
    "println(is_feasible_grid(0,8, x1, x2, feasible))"
   ]
  },
  {
   "cell_type": "code",
   "execution_count": null,
   "id": "315d91f2-3257-4b1f-ac82-91f8fbc213e2",
   "metadata": {},
   "outputs": [],
   "source": []
  }
 ],
 "metadata": {
  "kernelspec": {
   "display_name": "Julia 1.12.1",
   "language": "julia",
   "name": "julia-1.12"
  },
  "language_info": {
   "file_extension": ".jl",
   "mimetype": "application/julia",
   "name": "julia",
   "version": "1.12.1"
  }
 },
 "nbformat": 4,
 "nbformat_minor": 5
}
